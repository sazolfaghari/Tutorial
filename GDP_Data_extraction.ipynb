{
  "cells": [
    {
      "cell_type": "markdown",
      "metadata": {
        "id": "view-in-github",
        "colab_type": "text"
      },
      "source": [
        "<a href=\"https://colab.research.google.com/github/sazolfaghari/Tutorial/blob/main/GDP_Data_extraction.ipynb\" target=\"_parent\"><img src=\"https://colab.research.google.com/assets/colab-badge.svg\" alt=\"Open In Colab\"/></a>"
      ]
    },
    {
      "cell_type": "markdown",
      "metadata": {
        "id": "Fn3fRkLCJK9s"
      },
      "source": [
        "# Practice Project: GDP Data extraction and processing\n",
        "\n",
        "Estimated time needed: **30** minutes\n",
        "\n",
        "## Introduction\n",
        "\n",
        "In this practice project, you will put the skills acquired through the course to use. You will extract data from a website using webscraping and reqeust APIs process it using Pandas and Numpy libraries.\n"
      ]
    },
    {
      "cell_type": "markdown",
      "metadata": {
        "id": "jMTDtfLZJK9t"
      },
      "source": [
        "## Project Scenario:\n",
        "\n",
        "An international firm that is looking to expand its business in different countries across the world has recruited you. You have been hired as a junior Data Engineer and are tasked with creating a script that can extract the list of the top 10 largest economies of the world in descending order of their GDPs in Billion USD (rounded to 2 decimal places), as logged by the International Monetary Fund (IMF).\n",
        "\n",
        "The required data seems to be available on the URL mentioned below:\n"
      ]
    },
    {
      "cell_type": "markdown",
      "metadata": {
        "id": "qDRRVitiJK9t"
      },
      "source": [
        "URL: https://web.archive.org/web/20230902185326/https://en.wikipedia.org/wiki/List_of_countries_by_GDP_%28nominal%29\n"
      ]
    },
    {
      "cell_type": "markdown",
      "metadata": {
        "id": "jvhA5wqOJK9t"
      },
      "source": [
        "## Objectives\n",
        "\n",
        "After completing this lab you will be able to:\n",
        "\n",
        " - Use Webscraping to extract required information from a website.\n",
        " - Use Pandas to load and process the tabular data as a dataframe.\n",
        " - Use Numpy to manipulate the information contatined in the dataframe.\n",
        " - Load the updated dataframe to CSV file.\n"
      ]
    },
    {
      "cell_type": "markdown",
      "metadata": {
        "id": "feRSf_BPJK9t"
      },
      "source": [
        "---\n"
      ]
    },
    {
      "cell_type": "markdown",
      "metadata": {
        "id": "RorGaY2GJK9u"
      },
      "source": [
        "## Dislcaimer\n",
        "\n",
        "If you are using a downloaded version of this notebook on your local machine, you may encounter a warning message as shown in the screenshot below.\n",
        "\n",
        "<p style=\"text-align:center\">\n",
        "    <img src=\"https://cf-courses-data.s3.us.cloud-object-storage.appdomain.cloud/IBMDeveloperSkillsNetwork-PY0101EN-SkillsNetwork/labs/mod_5/practice_project_disclaimer.png\" width=\"700\" alt=\"warning message\">\n",
        "</p>\n",
        "\n",
        "\n",
        "This does not affect the execution of your codes in any way and can be simply ignored.\n"
      ]
    },
    {
      "cell_type": "markdown",
      "metadata": {
        "id": "DRRcoMzMJK9u"
      },
      "source": [
        "# Setup\n"
      ]
    },
    {
      "cell_type": "markdown",
      "metadata": {
        "id": "k5vsvCSKJK9u"
      },
      "source": [
        "For this lab, we will be using the following libraries:\n",
        "\n",
        "*   [`pandas`](https://pandas.pydata.org/?utm_medium=Exinfluencer&utm_source=Exinfluencer&utm_content=000026UJ&utm_term=10006555&utm_id=NA-SkillsNetwork-Channel-SkillsNetworkCoursesIBMML0187ENSkillsNetwork31430127-2021-01-01) for managing the data.\n",
        "*   [`numpy`](https://numpy.org/?utm_medium=Exinfluencer&utm_source=Exinfluencer&utm_content=000026UJ&utm_term=10006555&utm_id=NA-SkillsNetwork-Channel-SkillsNetworkCoursesIBMML0187ENSkillsNetwork31430127-2021-01-01) for mathematical operations.\n"
      ]
    },
    {
      "cell_type": "code",
      "execution_count": null,
      "metadata": {
        "id": "be2_vVJxJK9u",
        "outputId": "5c8e1343-39bd-425d-96bf-48e031cc50a5"
      },
      "outputs": [
        {
          "name": "stdout",
          "output_type": "stream",
          "text": [
            "Collecting pandas\n",
            "  Downloading pandas-2.3.1-cp312-cp312-manylinux_2_17_x86_64.manylinux2014_x86_64.whl.metadata (91 kB)\n",
            "Collecting numpy\n",
            "  Downloading numpy-2.3.2-cp312-cp312-manylinux_2_27_x86_64.manylinux_2_28_x86_64.whl.metadata (62 kB)\n",
            "Requirement already satisfied: python-dateutil>=2.8.2 in /opt/conda/lib/python3.12/site-packages (from pandas) (2.9.0.post0)\n",
            "Requirement already satisfied: pytz>=2020.1 in /opt/conda/lib/python3.12/site-packages (from pandas) (2024.2)\n",
            "Collecting tzdata>=2022.7 (from pandas)\n",
            "  Downloading tzdata-2025.2-py2.py3-none-any.whl.metadata (1.4 kB)\n",
            "Requirement already satisfied: six>=1.5 in /opt/conda/lib/python3.12/site-packages (from python-dateutil>=2.8.2->pandas) (1.17.0)\n",
            "Downloading pandas-2.3.1-cp312-cp312-manylinux_2_17_x86_64.manylinux2014_x86_64.whl (12.0 MB)\n",
            "\u001b[2K   \u001b[90m━━━━━━━━━━━━━━━━━━━━━━━━━━━━━━━━━━━━━━━━\u001b[0m \u001b[32m12.0/12.0 MB\u001b[0m \u001b[31m138.6 MB/s\u001b[0m eta \u001b[36m0:00:00\u001b[0m\n",
            "\u001b[?25hDownloading numpy-2.3.2-cp312-cp312-manylinux_2_27_x86_64.manylinux_2_28_x86_64.whl (16.6 MB)\n",
            "\u001b[2K   \u001b[90m━━━━━━━━━━━━━━━━━━━━━━━━━━━━━━━━━━━━━━━━\u001b[0m \u001b[32m16.6/16.6 MB\u001b[0m \u001b[31m147.7 MB/s\u001b[0m eta \u001b[36m0:00:00\u001b[0m\n",
            "\u001b[?25hDownloading tzdata-2025.2-py2.py3-none-any.whl (347 kB)\n",
            "Installing collected packages: tzdata, numpy, pandas\n",
            "Successfully installed numpy-2.3.2 pandas-2.3.1 tzdata-2025.2\n",
            "Collecting lxml\n",
            "  Downloading lxml-6.0.0-cp312-cp312-manylinux_2_27_x86_64.manylinux_2_28_x86_64.whl.metadata (6.6 kB)\n",
            "Downloading lxml-6.0.0-cp312-cp312-manylinux_2_27_x86_64.manylinux_2_28_x86_64.whl (5.3 MB)\n",
            "\u001b[2K   \u001b[90m━━━━━━━━━━━━━━━━━━━━━━━━━━━━━━━━━━━━━━━━\u001b[0m \u001b[32m5.3/5.3 MB\u001b[0m \u001b[31m127.4 MB/s\u001b[0m eta \u001b[36m0:00:00\u001b[0m\n",
            "Installing collected packages: lxml\n",
            "Successfully installed lxml-6.0.0\n"
          ]
        }
      ],
      "source": [
        "#Install required packages\n",
        "!pip install pandas numpy\n",
        "!pip install lxml"
      ]
    },
    {
      "cell_type": "markdown",
      "metadata": {
        "id": "T7hmTeghJK9v"
      },
      "source": [
        "### Importing Required Libraries\n",
        "\n",
        "_We recommend you import all required libraries in one place (here):_\n"
      ]
    },
    {
      "cell_type": "code",
      "execution_count": null,
      "metadata": {
        "id": "-2hosPPDJK9v"
      },
      "outputs": [],
      "source": [
        "import numpy as numpy\n",
        "import pandas as pd\n",
        "\n",
        "# You can also use this section to suppress warnings generated by your code:\n",
        "def warn(*args, **kwargs):\n",
        "    pass\n",
        "import warnings\n",
        "warnings.warn = warn\n",
        "warnings.filterwarnings('ignore')"
      ]
    },
    {
      "cell_type": "markdown",
      "metadata": {
        "id": "3sF4_yafJK9v"
      },
      "source": [
        "---\n"
      ]
    },
    {
      "cell_type": "markdown",
      "metadata": {
        "id": "aafvalzLJK9v"
      },
      "source": [
        "# Exercises\n",
        "\n",
        "### Exercise 1\n",
        "Extract the required GDP data from the given URL using Web Scraping.\n"
      ]
    },
    {
      "cell_type": "code",
      "execution_count": null,
      "metadata": {
        "id": "F3ZJedYuJK9v"
      },
      "outputs": [],
      "source": [
        "URL=\"https://web.archive.org/web/20230902185326/https://en.wikipedia.org/wiki/List_of_countries_by_GDP_%28nominal%29\""
      ]
    },
    {
      "cell_type": "markdown",
      "metadata": {
        "id": "SxmPHnp1JK9v"
      },
      "source": [
        "You can use Pandas library to extract the required table directly as a DataFrame. Note that the required table is the third one on the website, as shown in the image below.\n",
        "\n",
        "<img src=\"https://cf-courses-data.s3.us.cloud-object-storage.appdomain.cloud/IBMDeveloperSkillsNetwork-PY0101EN-SkillsNetwork/images/pandas_wbs_3.png\">\n"
      ]
    },
    {
      "cell_type": "code",
      "execution_count": null,
      "metadata": {
        "id": "uDtapyzEJK9w"
      },
      "outputs": [],
      "source": [
        "# Extract tables from webpage using Pandas. Retain table number 3 as the required dataframe.\n",
        "tabels = pd.read_html(URL)\n",
        "df = tabels[3]\n",
        "# Replace the column headers with column numbers\n",
        "df.columns = range(df.shape[1])\n",
        "\n",
        "# Retain columns with index 0 and 2 (name of country and value of GDP quoted by IMF)\n",
        "df = df[[0,2]]\n",
        "# Retain the Rows with index 1 to 10, indicating the top 10 economies of the world.\n",
        "df = df.iloc[1:11,:]\n",
        "# Assign column names as \"Country\" and \"GDP (Million USD)\"\n",
        "df.columns =[\"Country\", \"GDP (Million USD)\"]"
      ]
    },
    {
      "cell_type": "markdown",
      "metadata": {
        "id": "uUvY6eccJK9w"
      },
      "source": [
        "### Exercise 2\n",
        "Modify the GDP column of the DataFrame, converting the value available in Million USD to Billion USD. Use the `round()` method of Numpy library to round the value to 2 decimal places. Modify the header of the DataFrame to `GDP (Billion USD)`.\n"
      ]
    },
    {
      "cell_type": "code",
      "execution_count": null,
      "metadata": {
        "id": "XDmbSfffJK9w",
        "outputId": "f8f063f1-3f5c-4742-f6f0-cf5a49b9a8e0"
      },
      "outputs": [
        {
          "name": "stdout",
          "output_type": "stream",
          "text": [
            "1    26854599\n",
            "2    19373586\n",
            "3     4409738\n",
            "4     4308854\n",
            "5     3736882\n",
            "Name: GDP (Million USD), dtype: int64\n",
            "1    26854.599\n",
            "2    19373.586\n",
            "3     4409.738\n",
            "4     4308.854\n",
            "5     3736.882\n",
            "Name: GDP (Million USD), dtype: float64\n",
            "         Country  GDP (Billion USD)\n",
            "1  United States           26854.60\n",
            "2          China           19373.59\n",
            "3          Japan            4409.74\n",
            "4        Germany            4308.85\n",
            "5          India            3736.88\n"
          ]
        }
      ],
      "source": [
        "# Change the data type of the 'GDP (Million USD)' column to integer. Use astype() method.\n",
        "df[\"GDP (Million USD)\"] = df[\"GDP (Million USD)\"].astype(int)\n",
        "print(df[\"GDP (Million USD)\"].head())\n",
        "# Convert the GDP value in Million USD to Billion USD\n",
        "df[\"GDP (Million USD)\"] = np.divide(df[\"GDP (Million USD)\"],1000)\n",
        "print(df[\"GDP (Million USD)\"].head())\n",
        "# Use numpy.round() method to round the value to 2 decimal places.\n",
        "df[\"GDP (Million USD)\"] = np.round( df[\"GDP (Million USD)\"],2)\n",
        "# Rename the column header from 'GDP (Million USD)' to 'GDP (Billion USD)'\n",
        "df.rename (columns = {'GDP (Million USD)':'GDP (Billion USD)'}, inplace=True)\n",
        "print(df.head())"
      ]
    },
    {
      "cell_type": "markdown",
      "metadata": {
        "id": "JoH-0XwqJK9w"
      },
      "source": [
        "### Exercise 3\n"
      ]
    },
    {
      "cell_type": "markdown",
      "metadata": {
        "id": "nwXq7ha1JK9w"
      },
      "source": [
        "Load the DataFrame to the CSV file named \"Largest_economies.csv\"\n"
      ]
    },
    {
      "cell_type": "code",
      "execution_count": null,
      "metadata": {
        "id": "ekbTWq3gJK9w"
      },
      "outputs": [],
      "source": [
        "# Load the DataFrame to the CSV file named \"Largest_economies.csv\"\n",
        "df.to_csv(\"Largest_economies.csv\")"
      ]
    }
  ],
  "metadata": {
    "kernelspec": {
      "display_name": "Python 3 (ipykernel)",
      "language": "python",
      "name": "python3"
    },
    "language_info": {
      "codemirror_mode": {
        "name": "ipython",
        "version": 3
      },
      "file_extension": ".py",
      "mimetype": "text/x-python",
      "name": "python",
      "nbconvert_exporter": "python",
      "pygments_lexer": "ipython3",
      "version": "3.12.8"
    },
    "prev_pub_hash": "ee7cf2fc07fa051e87319a1be95da3650343abe19a5734606aa905c8137cd7fd",
    "colab": {
      "provenance": [],
      "include_colab_link": true
    }
  },
  "nbformat": 4,
  "nbformat_minor": 0
}